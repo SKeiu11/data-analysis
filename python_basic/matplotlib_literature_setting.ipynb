{
 "cells": [
  {
   "cell_type": "code",
   "execution_count": null,
   "metadata": {},
   "outputs": [],
   "source": [
    "### matplotlib文字化け防止用\n",
    "import matplotlib.pyplot as plt\n",
    "import matplotlib.font_manager as fm\n",
    "\n",
    "# macOS用の日本語フォントパス\n",
    "font_path = \"/System/Library/Fonts/ヒラギノ角ゴシック W3.ttc\"\n",
    "\n",
    "# フォント設定\n",
    "font_prop = fm.FontProperties(fname=font_path)\n",
    "plt.rcParams['font.family'] = font_prop.get_name()\n",
    "\n",
    "# テスト用グラフ\n",
    "plt.figure(figsize=(6, 4))\n",
    "plt.title(\"日本語タイトル\", fontproperties=font_prop)\n",
    "plt.xlabel(\"X軸\", fontproperties=font_prop)\n",
    "plt.ylabel(\"Y軸\", fontproperties=font_prop)\n",
    "plt.plot([1, 2, 3], [4, 5, 6])\n",
    "plt.show()"
   ]
  }
 ],
 "metadata": {
  "language_info": {
   "name": "python"
  }
 },
 "nbformat": 4,
 "nbformat_minor": 2
}
